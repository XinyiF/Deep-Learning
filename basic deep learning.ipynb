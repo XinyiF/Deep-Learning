{
 "cells": [
  {
   "cell_type": "markdown",
   "metadata": {},
   "source": [
    "## 单层神经网络"
   ]
  },
  {
   "cell_type": "code",
   "execution_count": 6,
   "metadata": {},
   "outputs": [],
   "source": [
    "import numpy as np"
   ]
  },
  {
   "cell_type": "code",
   "execution_count": 132,
   "metadata": {},
   "outputs": [],
   "source": [
    "x1=[1,3,4,2,5]\n",
    "x2=[2,3,4,2,5]\n",
    "y1=[7]\n",
    "y2=[5]\n",
    "\n",
    "w=np.array([[0.1,0.1],\n",
    "  [0.1,0.1],\n",
    "   [0.1,0.1],\n",
    "  [0.1,0.1],\n",
    "  [0.1,0.1]])\n",
    "v=np.array([0.2,0.2])\n",
    "\n",
    "b1=np.array([1,1])\n",
    "b2=1\n",
    "lr=0.05"
   ]
  },
  {
   "cell_type": "code",
   "execution_count": 133,
   "metadata": {},
   "outputs": [
    {
     "name": "stdout",
     "output_type": "stream",
     "text": [
      "loss =  22.264265708587665  at epoch 0\n",
      "loss =  18.587769118714213  at epoch 1\n",
      "loss =  15.190619230654914  at epoch 2\n",
      "loss =  12.37041073056909  at epoch 3\n",
      "loss =  10.059582428092163  at epoch 4\n",
      "loss =  8.174241933534296  at epoch 5\n",
      "loss =  6.639130734881908  at epoch 6\n",
      "loss =  5.390595368436128  at epoch 7\n",
      "loss =  4.3758538175248  at epoch 8\n",
      "loss =  3.5515199671027387  at epoch 9\n",
      "loss =  2.882092687092365  at epoch 10\n",
      "loss =  2.3385992121906347  at epoch 11\n",
      "loss =  1.8974336578113014  at epoch 12\n",
      "loss =  1.539384017404526  at epoch 13\n",
      "loss =  1.2488263139887914  at epoch 14\n",
      "loss =  1.0130615712195357  at epoch 15\n",
      "loss =  0.8217725088461442  at epoch 16\n",
      "loss =  0.6665795254985595  at epoch 17\n",
      "loss =  0.5406784817054109  at epoch 18\n",
      "loss =  0.43854559198682336  at epoch 19\n",
      "loss =  0.3556972171986612  at epoch 20\n",
      "loss =  0.2884944804711402  at epoch 21\n",
      "loss =  0.23398442745487724  at epoch 22\n",
      "loss =  0.18977094947866432  at epoch 23\n",
      "loss =  0.15390992734699183  at epoch 24\n",
      "loss =  0.1248240734801323  at epoch 25\n",
      "loss =  0.1012337867793837  at epoch 26\n",
      "loss =  0.08210101922013494  at epoch 27\n",
      "loss =  0.06658371234857054  at epoch 28\n",
      "loss =  0.05399881794416322  at epoch 29\n"
     ]
    }
   ],
   "source": [
    "def sigmoid(inp):\n",
    "    return 1/(1+np.exp(-inp))\n",
    "\n",
    "def forward(w,v,inp):\n",
    "    inner=sigmoid(np.dot(inp,w))\n",
    "    out=np.dot(inner,v)\n",
    "    return out\n",
    "\n",
    "def backward(w,v,x,dloss):\n",
    "    v1=v[0]\n",
    "    v2=v[1]\n",
    "    v1-=lr*sigmoid(np.dot(x,w[:,0]))*dloss\n",
    "    v2-=lr*sigmoid(np.dot(x,w[:,1]))*dloss\n",
    "    \n",
    "    for i in range(len(w)):\n",
    "        w[i][0]-=lr*sigmoid(np.dot(x,w[:,0]))*sigmoid(np.dot(x,w[:,0]))*(1-sigmoid(np.dot(x,w[:,0])))*x[i]*dloss\n",
    "        w[i][1]-=lr*sigmoid(np.dot(x,w[:,1]))*sigmoid(np.dot(x,w[:,1]))*(1-sigmoid(np.dot(x,w[:,1])))*x[i]*dloss\n",
    "        \n",
    "    return w,[v1,v2]\n",
    "\n",
    "def loss(y_hat,y):\n",
    "    ls=0.5*(y-y_hat)**2\n",
    "    dloss=y_hat-y\n",
    "    return ls,dloss[0]\n",
    "\n",
    "def train(x,y,w,v):\n",
    "    ls=0\n",
    "    for t in range(30):\n",
    "        y_hat=forward(w,v,x)\n",
    "        ls,dloss=loss(y_hat,y)\n",
    "        print('loss = ',ls[0],' at epoch',t)\n",
    "        w,v=backward(w,v,x,dloss)\n",
    "    return w,v\n",
    "\n",
    "\n",
    "w,v=train(x1,y1,w,v)"
   ]
  },
  {
   "cell_type": "code",
   "execution_count": 134,
   "metadata": {},
   "outputs": [
    {
     "name": "stdout",
     "output_type": "stream",
     "text": [
      "6.710250600462726\n"
     ]
    }
   ],
   "source": [
    "def predict(x,w,v):\n",
    "    print(forward(w,v,x))\n",
    "predict(x2,w,v)"
   ]
  },
  {
   "cell_type": "code",
   "execution_count": null,
   "metadata": {},
   "outputs": [],
   "source": []
  },
  {
   "cell_type": "code",
   "execution_count": null,
   "metadata": {},
   "outputs": [],
   "source": []
  }
 ],
 "metadata": {
  "kernelspec": {
   "display_name": "Python 3",
   "language": "python",
   "name": "python3"
  },
  "language_info": {
   "codemirror_mode": {
    "name": "ipython",
    "version": 3
   },
   "file_extension": ".py",
   "mimetype": "text/x-python",
   "name": "python",
   "nbconvert_exporter": "python",
   "pygments_lexer": "ipython3",
   "version": "3.8.3"
  }
 },
 "nbformat": 4,
 "nbformat_minor": 4
}
